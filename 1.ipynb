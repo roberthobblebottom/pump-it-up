{
 "cells": [
  {
   "cell_type": "code",
   "execution_count": 2,
   "metadata": {},
   "outputs": [],
   "source": [
    "import torch\n",
    "import numpy as np\n",
    "import pandas as pd\n",
    "from torch.utils.data import DataLoader\n",
    "from torch.utils.data import TensorDataset\n",
    "\n",
    "from torch import optim, nn\n",
    "from torch.nn import CrossEntropyLoss\n",
    "import torch.nn.functional as F\n",
    "from numpy import genfromtxt\n",
    "import pandas as pd\n",
    "import seaborn as sns\n",
    "import matplotlib.pyplot as plt\n",
    "\n",
    "from sklearn.cluster import KMeans\n",
    "from sklearn.impute import KNNImputer\n",
    "from sklearn.model_selection import TimeSeriesSplit\n",
    "import lightgbm as lgb\n",
    "\n",
    "\n",
    "import copy\n",
    "%matplotlib inline\n",
    "\n",
    "rng = 0\n",
    "\n",
    "test_values = pd.read_csv(\"./test-set-values.csv\")\n",
    "train_values = pd.read_csv(\"./training-set-values.csv\")\n",
    "train_labels = pd.read_csv(\"./training-set-labels.csv\")\n"
   ]
  },
  {
   "cell_type": "code",
   "execution_count": 11,
   "metadata": {},
   "outputs": [
    {
     "data": {
      "text/plain": [
       "Index(['id', 'amount_tsh', 'date_recorded', 'funder', 'gps_height',\n",
       "       'installer', 'longitude', 'latitude', 'wpt_name', 'num_private',\n",
       "       'basin', 'subvillage', 'region', 'region_code', 'district_code', 'lga',\n",
       "       'ward', 'population', 'public_meeting', 'recorded_by',\n",
       "       'scheme_management', 'scheme_name', 'permit', 'construction_year',\n",
       "       'extraction_type', 'extraction_type_group', 'extraction_type_class',\n",
       "       'management', 'management_group', 'payment', 'payment_type',\n",
       "       'water_quality', 'quality_group', 'quantity', 'quantity_group',\n",
       "       'source', 'source_type', 'source_class', 'waterpoint_type',\n",
       "       'waterpoint_type_group'],\n",
       "      dtype='object')"
      ]
     },
     "execution_count": 11,
     "metadata": {},
     "output_type": "execute_result"
    }
   ],
   "source": [
    "train_values.columns"
   ]
  },
  {
   "cell_type": "code",
   "execution_count": 7,
   "metadata": {},
   "outputs": [
    {
     "name": "stdout",
     "output_type": "stream",
     "text": [
      "any nulls in train_values?\n"
     ]
    },
    {
     "data": {
      "text/plain": [
       "id                       False\n",
       "amount_tsh               False\n",
       "date_recorded            False\n",
       "funder                    True\n",
       "gps_height               False\n",
       "installer                 True\n",
       "longitude                False\n",
       "latitude                 False\n",
       "wpt_name                 False\n",
       "num_private              False\n",
       "basin                    False\n",
       "subvillage                True\n",
       "region                   False\n",
       "region_code              False\n",
       "district_code            False\n",
       "lga                      False\n",
       "ward                     False\n",
       "population               False\n",
       "public_meeting            True\n",
       "recorded_by              False\n",
       "scheme_management         True\n",
       "scheme_name               True\n",
       "permit                    True\n",
       "construction_year        False\n",
       "extraction_type          False\n",
       "extraction_type_group    False\n",
       "extraction_type_class    False\n",
       "management               False\n",
       "management_group         False\n",
       "payment                  False\n",
       "payment_type             False\n",
       "water_quality            False\n",
       "quality_group            False\n",
       "quantity                 False\n",
       "quantity_group           False\n",
       "source                   False\n",
       "source_type              False\n",
       "source_class             False\n",
       "waterpoint_type          False\n",
       "waterpoint_type_group    False\n",
       "dtype: bool"
      ]
     },
     "execution_count": 7,
     "metadata": {},
     "output_type": "execute_result"
    }
   ],
   "source": [
    "print(\"any nulls in train_values?\")\n",
    "pd.isnull(train_values).any()"
   ]
  },
  {
   "cell_type": "code",
   "execution_count": 17,
   "metadata": {},
   "outputs": [
    {
     "name": "stdout",
     "output_type": "stream",
     "text": [
      "any NANs in train_values?\n",
      "id                       False\n",
      "amount_tsh               False\n",
      "date_recorded            False\n",
      "funder                    True\n",
      "gps_height               False\n",
      "installer                 True\n",
      "longitude                False\n",
      "latitude                 False\n",
      "wpt_name                 False\n",
      "num_private              False\n",
      "basin                    False\n",
      "subvillage                True\n",
      "region                   False\n",
      "region_code              False\n",
      "district_code            False\n",
      "lga                      False\n",
      "ward                     False\n",
      "population               False\n",
      "public_meeting            True\n",
      "recorded_by              False\n",
      "scheme_management         True\n",
      "scheme_name               True\n",
      "permit                    True\n",
      "construction_year        False\n",
      "extraction_type          False\n",
      "extraction_type_group    False\n",
      "extraction_type_class    False\n",
      "management               False\n",
      "management_group         False\n",
      "payment                  False\n",
      "payment_type             False\n",
      "water_quality            False\n",
      "quality_group            False\n",
      "quantity                 False\n",
      "quantity_group           False\n",
      "source                   False\n",
      "source_type              False\n",
      "source_class             False\n",
      "waterpoint_type          False\n",
      "waterpoint_type_group    False\n",
      "dtype: bool\n"
     ]
    }
   ],
   "source": [
    "print(\"any NANs in train_values?\")\n",
    "print(pd.isna(train_values).any())"
   ]
  },
  {
   "cell_type": "code",
   "execution_count": 16,
   "metadata": {},
   "outputs": [
    {
     "name": "stdout",
     "output_type": "stream",
     "text": [
      "any nulls in train_labels?\n",
      "id              False\n",
      "status_group    False\n",
      "dtype: bool\n",
      "id              False\n",
      "status_group    False\n",
      "dtype: bool\n"
     ]
    }
   ],
   "source": [
    "print(\"any nulls or NANs in train_labels?\")\n",
    "print(pd.isnull(train_labels).any())\n",
    "print(pd.isna(train_labels).any())"
   ]
  }
 ],
 "metadata": {
  "kernelspec": {
   "display_name": "Python 3.10.4 ('pump-it-up')",
   "language": "python",
   "name": "python3"
  },
  "language_info": {
   "codemirror_mode": {
    "name": "ipython",
    "version": 3
   },
   "file_extension": ".py",
   "mimetype": "text/x-python",
   "name": "python",
   "nbconvert_exporter": "python",
   "pygments_lexer": "ipython3",
   "version": "3.10.4"
  },
  "orig_nbformat": 4,
  "vscode": {
   "interpreter": {
    "hash": "2d92fc8909020683cb55c5d86a72687947a2c7ca7b96c418eb5a968020b625a5"
   }
  }
 },
 "nbformat": 4,
 "nbformat_minor": 2
}
